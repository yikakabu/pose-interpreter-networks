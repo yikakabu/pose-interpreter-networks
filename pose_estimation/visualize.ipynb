{
 "cells": [
  {
   "cell_type": "code",
   "execution_count": 1,
   "metadata": {},
   "outputs": [],
   "source": [
    "# visualize model outputs on val dataset"
   ]
  },
  {
   "cell_type": "code",
   "execution_count": 2,
   "metadata": {},
   "outputs": [],
   "source": [
    "import matplotlib.pyplot as plt\n",
    "import numpy as np\n",
    "import torch\n",
    "import torch.backends.cudnn as cudnn\n",
    "import torchvision.transforms as transforms\n",
    "from munch import Munch\n",
    "\n",
    "import datasets\n",
    "import models\n",
    "import utils"
   ]
  },
  {
   "cell_type": "code",
   "execution_count": 3,
   "metadata": {},
   "outputs": [],
   "source": [
    "coke_data_root = '../data/CokeDataset'\n",
    "ann_file = '20190517_Coke.json'\n",
    "camera_name = 'kinect1'\n",
    "#mode = 'object'\n",
    "mode = 'mask'\n",
    "config_path = 'pretrained/kinect1_{}/config.yml'.format(mode)\n",
    "blender_path = '/usr/local/bin/blender'"
   ]
  },
  {
   "cell_type": "code",
   "execution_count": 4,
   "metadata": {},
   "outputs": [
    {
     "name": "stderr",
     "output_type": "stream",
     "text": [
      "/opt/htl/py36/lib/python3.6/site-packages/munch/__init__.py:505: YAMLLoadWarning: calling yaml.load() without Loader=... is deprecated, as the default Loader is unsafe. Please read https://msg.pyyaml.org/load for full details.\n",
      "  return munchify(yaml.load(*args, **kwargs))\n"
     ]
    }
   ],
   "source": [
    "with open(config_path, 'r') as f:\n",
    "    cfg = Munch.fromYAML(f)"
   ]
  },
  {
   "cell_type": "code",
   "execution_count": 5,
   "metadata": {},
   "outputs": [
    {
     "name": "stdout",
     "output_type": "stream",
     "text": [
      "loading annotations into memory...\n",
      "Done (t=0.80s)\n",
      "creating index...\n",
      "index created!\n",
      "loading annotations into memory...\n",
      "Done (t=0.42s)\n",
      "creating index...\n",
      "index created!\n"
     ]
    }
   ],
   "source": [
    "camera_parameters = utils.get_camera_parameters(coke_data_root, ann_file, camera_name)\n",
    "model_paths = utils.get_model_paths(coke_data_root, ann_file, cfg.data.objects)\n",
    "pose_renderers = [\n",
    "    utils.PoseRenderer(blender_path, camera_parameters, model_path, mode)\n",
    "    for model_path in model_paths\n",
    "]"
   ]
  },
  {
   "cell_type": "code",
   "execution_count": 6,
   "metadata": {},
   "outputs": [
    {
     "name": "stdout",
     "output_type": "stream",
     "text": [
      "=> loaded checkpoint 'pretrained/kinect1_mask/checkpoint_00002100.pth.tar' (epoch 2100)\n"
     ]
    }
   ],
   "source": [
    "model = models.Model(cfg.arch)\n",
    "model = torch.nn.DataParallel(model).cuda()\n",
    "cudnn.benchmark = True\n",
    "checkpoint = torch.load(cfg.training.resume)\n",
    "model.load_state_dict(checkpoint['state_dict'])\n",
    "model.eval()\n",
    "print(\"=> loaded checkpoint '{}' (epoch {})\".format(cfg.training.resume, checkpoint['epoch']))"
   ]
  },
  {
   "cell_type": "code",
   "execution_count": 7,
   "metadata": {},
   "outputs": [],
   "source": [
    "transform = transforms.ToTensor()\n",
    "val_dataset = datasets.RenderedPoseDataset(\n",
    "    cfg.data.root, cfg.data.objects, cfg.data.val_subset_num, transform)\n",
    "val_loader = torch.utils.data.DataLoader(\n",
    "    val_dataset, batch_size=1, shuffle=True, num_workers=0, pin_memory=True)"
   ]
  },
  {
   "cell_type": "code",
   "execution_count": 8,
   "metadata": {},
   "outputs": [],
   "source": [
    "def visualize_batch(model, pose_renderers, input, target, object_index):\n",
    "    target = target.cuda(non_blocking=True)\n",
    "    object_index = object_index.cuda(non_blocking=True)\n",
    "    position, orientation = model(input, object_index)\n",
    "    position_error = (target[:, :3] - position).pow(2).sum(dim=1).sqrt()\n",
    "    orientation_error = 180.0 / np.pi * utils.batch_rotation_angle(target[:, 3:], orientation)\n",
    "\n",
    "    image = input.numpy()\n",
    "    image = image.squeeze(1) if image.shape[1] == 1 else image.transpose((0, 2, 3, 1))\n",
    "    object_index = object_index.cpu().numpy()\n",
    "    position = position.cpu().numpy()\n",
    "    orientation = orientation.cpu().numpy()\n",
    "\n",
    "    for i in range(input.size(0)):\n",
    "        _, axes = plt.subplots(1, 2, figsize=(2 * 4, 4))\n",
    "        rendered_pose = pose_renderers[object_index[i]].render(position[i], orientation[i])\n",
    "        axes[0].imshow(image[i], cmap='gray' if image.ndim == 3 else None)\n",
    "        axes[1].imshow(rendered_pose, cmap='gray' if image.ndim == 3 else None)\n",
    "        plt.show()\n",
    "        print('position error: {:.4f} meters'.format(position_error[i]))\n",
    "        print('orientation error: {:.2f} degrees'.format(orientation_error[i]))\n",
    "        print('\\n')"
   ]
  },
  {
   "cell_type": "code",
   "execution_count": 9,
   "metadata": {
    "scrolled": false
   },
   "outputs": [
    {
     "data": {
      "image/png": "[encoded data removed]",
      "text/plain": [
       "<Figure size 576x288 with 2 Axes>"
      ]
     },
     "metadata": {
      "needs_background": "light"
     },
     "output_type": "display_data"
    },
    {
     "name": "stdout",
     "output_type": "stream",
     "text": [
      "position error: 0.0166 meters\n",
      "orientation error: 2.06 degrees\n",
      "\n",
      "\n"
     ]
    },
    {
     "data": {
      "image/png": "[encoded data removed]",
      "text/plain": [
       "<Figure size 576x288 with 2 Axes>"
      ]
     },
     "metadata": {
      "needs_background": "light"
     },
     "output_type": "display_data"
    },
    {
     "name": "stdout",
     "output_type": "stream",
     "text": [
      "position error: 0.0050 meters\n",
      "orientation error: 9.94 degrees\n",
      "\n",
      "\n"
     ]
    },
    {
     "data": {
      "image/png": "[encoded data removed]",
      "text/plain": [
       "<Figure size 576x288 with 2 Axes>"
      ]
     },
     "metadata": {
      "needs_background": "light"
     },
     "output_type": "display_data"
    },
    {
     "name": "stdout",
     "output_type": "stream",
     "text": [
      "position error: 0.0328 meters\n",
      "orientation error: 85.79 degrees\n",
      "\n",
      "\n"
     ]
    },
    {
     "data": {
      "image/png": "[encoded data removed]",
      "text/plain": [
       "<Figure size 576x288 with 2 Axes>"
      ]
     },
     "metadata": {
      "needs_background": "light"
     },
     "output_type": "display_data"
    },
    {
     "name": "stdout",
     "output_type": "stream",
     "text": [
      "position error: 0.0024 meters\n",
      "orientation error: 174.50 degrees\n",
      "\n",
      "\n"
     ]
    },
    {
     "data": {
      "image/png": "[encoded data removed]",
      "text/plain": [
       "<Figure size 576x288 with 2 Axes>"
      ]
     },
     "metadata": {
      "needs_background": "light"
     },
     "output_type": "display_data"
    },
    {
     "name": "stdout",
     "output_type": "stream",
     "text": [
      "position error: 0.0173 meters\n",
      "orientation error: 137.88 degrees\n",
      "\n",
      "\n"
     ]
    },
    {
     "data": {
      "image/png": "[encoded data removed]",
      "text/plain": [
       "<Figure size 576x288 with 2 Axes>"
      ]
     },
     "metadata": {
      "needs_background": "light"
     },
     "output_type": "display_data"
    },
    {
     "name": "stdout",
     "output_type": "stream",
     "text": [
      "position error: 0.0045 meters\n",
      "orientation error: 142.38 degrees\n",
      "\n",
      "\n"
     ]
    },
    {
     "data": {
      "image/png": "[encoded data removed]",
      "text/plain": [
       "<Figure size 576x288 with 2 Axes>"
      ]
     },
     "metadata": {
      "needs_background": "light"
     },
     "output_type": "display_data"
    },
    {
     "name": "stdout",
     "output_type": "stream",
     "text": [
      "position error: 0.0073 meters\n",
      "orientation error: 134.52 degrees\n",
      "\n",
      "\n"
     ]
    },
    {
     "data": {
      "image/png": "[encoded data removed]",
      "text/plain": [
       "<Figure size 576x288 with 2 Axes>"
      ]
     },
     "metadata": {
      "needs_background": "light"
     },
     "output_type": "display_data"
    },
    {
     "name": "stdout",
     "output_type": "stream",
     "text": [
      "position error: 0.0084 meters\n",
      "orientation error: 169.13 degrees\n",
      "\n",
      "\n"
     ]
    }
   ],
   "source": [
    "# display random pairs of (input image, rendered pose estimate)\n",
    "count = 0\n",
    "num_examples = 8\n",
    "\n",
    "with torch.no_grad():\n",
    "    for input, target, object_index in val_loader:\n",
    "        visualize_batch(model, pose_renderers, input, target, object_index)\n",
    "        count += input.size(0)\n",
    "        if count == num_examples:\n",
    "            break"
   ]
  },
  {
   "cell_type": "code",
   "execution_count": null,
   "metadata": {},
   "outputs": [],
   "source": []
  },
  {
   "cell_type": "code",
   "execution_count": null,
   "metadata": {},
   "outputs": [],
   "source": []
  }
 ],
 "metadata": {
  "kernelspec": {
   "display_name": "Python 3",
   "language": "python",
   "name": "python3"
  },
  "language_info": {
   "codemirror_mode": {
    "name": "ipython",
    "version": 3
   },
   "file_extension": ".py",
   "mimetype": "text/x-python",
   "name": "python",
   "nbconvert_exporter": "python",
   "pygments_lexer": "ipython3",
   "version": "3.6.7"
  }
 },
 "nbformat": 4,
 "nbformat_minor": 2
}
