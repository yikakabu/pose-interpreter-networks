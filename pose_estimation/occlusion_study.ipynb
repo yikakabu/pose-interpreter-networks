{
 "cells": [
  {
   "cell_type": "code",
   "execution_count": 1,
   "metadata": {},
   "outputs": [],
   "source": [
    "# avoid non-compliant Type 3 fonts\n",
    "import matplotlib\n",
    "matplotlib.rcParams['pdf.fonttype'] = 42"
   ]
  },
  {
   "cell_type": "code",
   "execution_count": 2,
   "metadata": {},
   "outputs": [],
   "source": [
    "import os\n",
    "\n",
    "import matplotlib.pyplot as plt\n",
    "import numpy as np\n",
    "import torch\n",
    "import torch.backends.cudnn as cudnn\n",
    "import torch.utils.data\n",
    "import torchvision.transforms as transforms\n",
    "from munch import Munch\n",
    "from skimage.draw import circle\n",
    "from skimage.measure import find_contours\n",
    "from tqdm import tqdm_notebook as tqdm\n",
    "from PIL import Image\n",
    "\n",
    "import models\n",
    "import utils"
   ]
  },
  {
   "cell_type": "code",
   "execution_count": 3,
   "metadata": {},
   "outputs": [],
   "source": [
    "max_circle_size = 48\n",
    "num_circles = 16\n",
    "cache_dir = 'cache/occlusion_study/'"
   ]
  },
  {
   "cell_type": "code",
   "execution_count": 4,
   "metadata": {},
   "outputs": [],
   "source": [
    "config_path = 'pretrained/floating_kinect1_mask/config.yml'\n",
    "#config_path = 'pretrained/floating_kinect1_mask_with_occlusion/config.yml'"
   ]
  },
  {
   "cell_type": "code",
   "execution_count": 5,
   "metadata": {},
   "outputs": [],
   "source": [
    "with open(config_path, 'r') as f:\n",
    "    cfg = Munch.fromYAML(f)"
   ]
  },
  {
   "cell_type": "code",
   "execution_count": 6,
   "metadata": {},
   "outputs": [
    {
     "name": "stdout",
     "output_type": "stream",
     "text": [
      "=> loaded checkpoint 'pretrained/floating_kinect1_mask/checkpoint_00002100.pth.tar' (epoch 2100)\n"
     ]
    }
   ],
   "source": [
    "model = models.Model(cfg.arch)\n",
    "model = torch.nn.DataParallel(model).cuda()\n",
    "cudnn.benchmark = True\n",
    "checkpoint = torch.load(cfg.training.resume)\n",
    "model.load_state_dict(checkpoint['state_dict'])\n",
    "model.eval()\n",
    "print(\"=> loaded checkpoint '{}' (epoch {})\".format(cfg.training.resume, checkpoint['epoch']))"
   ]
  },
  {
   "cell_type": "code",
   "execution_count": 7,
   "metadata": {},
   "outputs": [],
   "source": [
    "class OccludedRenderedPoseMaskDataset(torch.utils.data.Dataset):\n",
    "    def __init__(self, data_root, objects, subset_num, transform, max_circle_size, num_circles):\n",
    "        self.transform = transform\n",
    "        self.num_circles = num_circles\n",
    "\n",
    "        # images\n",
    "        image_dirs = []\n",
    "        self.object_indices = []\n",
    "\n",
    "        for o in objects:\n",
    "            image_dirs.append(os.path.join(data_root, o, 'subset_{:08}'.format(subset_num)))\n",
    "        for image_dir in image_dirs:\n",
    "            assert os.path.exists(image_dir)\n",
    "        self.image_paths = []\n",
    "        for i, image_dir in enumerate(image_dirs):\n",
    "            image_names = sorted(os.listdir(image_dir))\n",
    "            self.image_paths.extend([os.path.join(image_dir, name) for name in image_names])\n",
    "            self.object_indices.extend(i * np.ones(len(image_names)))\n",
    "        self.object_indices = np.array(self.object_indices, dtype=np.int64)\n",
    "        assert len(self.object_indices) == len(self.image_paths)\n",
    "\n",
    "        # poses\n",
    "        poses_paths = []\n",
    "        for o in objects:\n",
    "            poses_paths.append(os.path.join(data_root, o, 'poses', 'subset_{:08}.txt'.format(subset_num)))\n",
    "        for poses_path in poses_paths:\n",
    "            assert os.path.exists(poses_path)\n",
    "        self.poses = []\n",
    "        for poses_path in poses_paths:\n",
    "            self.poses.extend(np.loadtxt(poses_path).astype(np.float32))\n",
    "        assert len(self.poses) == len(self.image_paths)\n",
    "\n",
    "        # precompute circular occlusions\n",
    "        print('precomputing circular occlusions')\n",
    "        random_state = np.random.RandomState(0)\n",
    "        self.circle_sizes = max_circle_size * random_state.rand(self.num_circles * len(self.image_paths))\n",
    "        self.circle_centers = []\n",
    "        for image_path in tqdm(self.image_paths):\n",
    "            contours = find_contours(np.asarray(Image.open(image_path)), 0)\n",
    "            if len(contours) > 0:\n",
    "                contour = sorted(contours, key=lambda x: -x.shape[0])[0]\n",
    "            if len(contours) > 0 and len(contour) >= self.num_circles:\n",
    "                contour_indices = random_state.choice(len(contour), self.num_circles, replace=False)\n",
    "                self.circle_centers.extend(contour[contour_indices])\n",
    "            else:\n",
    "                # object is probably out of image or too small to occlude\n",
    "                self.circle_centers.extend(self.num_circles * [None])\n",
    "\n",
    "    def __getitem__(self, index):\n",
    "        image_index = index // self.num_circles\n",
    "        object_index = self.object_indices[image_index]\n",
    "\n",
    "        image = Image.open(self.image_paths[image_index])\n",
    "        occlusion_amount = 0\n",
    "\n",
    "        # apply precomputed circular occlusion if possible\n",
    "        if self.circle_centers[index] is not None:\n",
    "            np_image = np.asarray(image)\n",
    "            occluded_image = np_image.copy()\n",
    "            r, c = self.circle_centers[index]\n",
    "            circle_size = self.circle_sizes[index]\n",
    "            rr, cc = circle(r, c, circle_size, shape=np_image.shape)\n",
    "            occluded_image[rr, cc] = 0\n",
    "            occlusion_amount = 1 - float(occluded_image.sum()) / np_image.sum()\n",
    "            image = Image.fromarray(occluded_image)\n",
    "\n",
    "        image = self.transform(image)\n",
    "\n",
    "        # enforce quaternion [w, x, y, z] to have positive w\n",
    "        target_pose = self.poses[image_index]\n",
    "        if target_pose[3] < 0:\n",
    "            target_pose[3:] = -target_pose[3:]\n",
    "\n",
    "        return image, target_pose, object_index, occlusion_amount\n",
    "\n",
    "    def __len__(self):\n",
    "        return self.num_circles * len(self.image_paths)"
   ]
  },
  {
   "cell_type": "code",
   "execution_count": 8,
   "metadata": {},
   "outputs": [
    {
     "name": "stdout",
     "output_type": "stream",
     "text": [
      "precomputing circular occlusions\n"
     ]
    },
    {
     "data": {
      "application/vnd.jupyter.widget-view+json": {
       "model_id": "a46ce0ed109143de91853e6d29a6eaa3",
       "version_major": 2,
       "version_minor": 0
      },
      "text/plain": [
       "HBox(children=(IntProgress(value=0, max=3200), HTML(value='')))"
      ]
     },
     "metadata": {},
     "output_type": "display_data"
    },
    {
     "name": "stdout",
     "output_type": "stream",
     "text": [
      "\n"
     ]
    }
   ],
   "source": [
    "transform = transforms.ToTensor()\n",
    "val_dataset = OccludedRenderedPoseMaskDataset(\n",
    "    cfg.data.root, cfg.data.objects, cfg.data.val_subset_num, transform, max_circle_size, num_circles)\n",
    "val_loader = torch.utils.data.DataLoader(\n",
    "    val_dataset, batch_size=1, shuffle=True, num_workers=0, pin_memory=True)"
   ]
  },
  {
   "cell_type": "code",
   "execution_count": 9,
   "metadata": {
    "scrolled": true
   },
   "outputs": [],
   "source": [
    "# visualize\n",
    "#for image, _, _, occlusion_amount in val_loader:\n",
    "#    plt.imshow(image[0].numpy()[0], cmap='gray')\n",
    "#    plt.show()\n",
    "#    print(occlusion_amount[0].item())"
   ]
  },
  {
   "cell_type": "code",
   "execution_count": 10,
   "metadata": {},
   "outputs": [],
   "source": [
    "def forward_batch(model, input, target, object_index):\n",
    "    target = target.cuda(non_blocking=True)\n",
    "    object_index = object_index.cuda(non_blocking=True)\n",
    "\n",
    "    position, orientation = model(input, object_index)\n",
    "    position_error = (target[:, :3] - position).pow(2).sum(dim=1).sqrt()\n",
    "    orientation_error = 180.0 / np.pi * utils.batch_rotation_angle(target[:, 3:], orientation)\n",
    "\n",
    "    return position_error.cpu().numpy(), orientation_error.cpu().numpy()"
   ]
  },
  {
   "cell_type": "code",
   "execution_count": 11,
   "metadata": {},
   "outputs": [
    {
     "data": {
      "application/vnd.jupyter.widget-view+json": {
       "model_id": "0f0d134a587b48789b2c72117ba7afed",
       "version_major": 2,
       "version_minor": 0
      },
      "text/plain": [
       "HBox(children=(IntProgress(value=0, max=51200), HTML(value='')))"
      ]
     },
     "metadata": {},
     "output_type": "display_data"
    },
    {
     "name": "stdout",
     "output_type": "stream",
     "text": [
      "\n"
     ]
    }
   ],
   "source": [
    "occlusion_amounts = []\n",
    "position_errors = []\n",
    "orientation_errors = []\n",
    "with torch.no_grad():\n",
    "    for input, target, object_index, occlusion_amount in tqdm(val_loader):\n",
    "        position_error, orientation_error = forward_batch(model, input, target, object_index)\n",
    "        occlusion_amounts.extend(occlusion_amount)\n",
    "        position_errors.extend(position_error)\n",
    "        orientation_errors.extend(orientation_error)\n",
    "position_errors = 100.0 * np.array(position_errors)\n",
    "orientation_errors = np.array(orientation_errors)"
   ]
  },
  {
   "cell_type": "code",
   "execution_count": 12,
   "metadata": {},
   "outputs": [],
   "source": [
    "num_bins = 100\n",
    "bin_edges = np.linspace(0, 1, num_bins + 1)\n",
    "left_edges = bin_edges[:num_bins]"
   ]
  },
  {
   "cell_type": "code",
   "execution_count": 13,
   "metadata": {},
   "outputs": [
    {
     "data": {
      "application/vnd.jupyter.widget-view+json": {
       "model_id": "170d52605269471081beac28ed117061",
       "version_major": 2,
       "version_minor": 0
      },
      "text/plain": [
       "HBox(children=(IntProgress(value=0), HTML(value='')))"
      ]
     },
     "metadata": {},
     "output_type": "display_data"
    },
    {
     "name": "stdout",
     "output_type": "stream",
     "text": [
      "\n"
     ]
    }
   ],
   "source": [
    "p_mean = []\n",
    "o_mean = []\n",
    "for i in tqdm(range(num_bins)):\n",
    "    mask = (bin_edges[i] <= occlusion_amounts) & (occlusion_amounts < bin_edges[i + 1])\n",
    "    p_mean.append(position_errors[mask].mean())\n",
    "    o_mean.append(orientation_errors[mask].mean())"
   ]
  },
  {
   "cell_type": "code",
   "execution_count": 14,
   "metadata": {},
   "outputs": [],
   "source": [
    "if not os.path.exists(cache_dir):\n",
    "    os.makedirs(cache_dir)\n",
    "cache_path = os.path.join(cache_dir, '{}.npy'.format(cfg.training.experiment_name))\n",
    "np.save(cache_path, (p_mean, o_mean))"
   ]
  },
  {
   "cell_type": "code",
   "execution_count": 15,
   "metadata": {},
   "outputs": [],
   "source": [
    "cache_path_wo_occlusion = os.path.join(cache_dir, '{}.npy'.format('floating_kinect1_mask'))\n",
    "cache_path_with_occlusion = os.path.join(cache_dir, '{}.npy'.format('floating_kinect1_mask_with_occlusion'))\n",
    "p_mean_wo_occlusion, o_mean_wo_occlusion = np.load(cache_path_wo_occlusion)\n",
    "p_mean_with_occlusion, o_mean_with_occlusion = np.load(cache_path_with_occlusion)"
   ]
  },
  {
   "cell_type": "code",
   "execution_count": 16,
   "metadata": {},
   "outputs": [
    {
     "data": {
      "image/png": "[encoded data removed]",
      "text/plain": [
       "<Figure size 432x288 with 1 Axes>"
      ]
     },
     "metadata": {},
     "output_type": "display_data"
    }
   ],
   "source": [
    "ax = plt.subplot(111)\n",
    "ax.spines['top'].set_visible(False)\n",
    "ax.spines['right'].set_visible(False)\n",
    "ax.tick_params(axis='both', which='major', labelsize=16)\n",
    "ax.tick_params(axis='both', which='minor', labelsize=16)\n",
    "plt.plot(left_edges, p_mean_wo_occlusion, color='gray', lw=1, label='trained without occlusion')\n",
    "plt.plot(left_edges, p_mean_with_occlusion, color='darkmagenta', lw=1, label='trained with occlusion')\n",
    "plt.xlim(0, 1)\n",
    "plt.ylim(0, 90)\n",
    "plt.xlabel('occlusion amount', fontsize=18)\n",
    "plt.ylabel('mean position error (cm)', fontsize=18)\n",
    "plt.legend(prop={'size': 14})\n",
    "plt.savefig('figures/occlusion_position.pdf', bbox_inches='tight')"
   ]
  },
  {
   "cell_type": "code",
   "execution_count": 17,
   "metadata": {},
   "outputs": [
    {
     "data": {
      "image/png": "[encoded data removed]",
      "text/plain": [
       "<Figure size 432x288 with 1 Axes>"
      ]
     },
     "metadata": {},
     "output_type": "display_data"
    }
   ],
   "source": [
    "ax = plt.subplot(111)\n",
    "ax.spines['top'].set_visible(False)\n",
    "ax.spines['right'].set_visible(False)\n",
    "ax.tick_params(axis='both', which='major', labelsize=16)\n",
    "ax.tick_params(axis='both', which='minor', labelsize=16)\n",
    "plt.plot(left_edges, o_mean_wo_occlusion, color='gray', lw=1, label='trained without occlusion')\n",
    "plt.plot(left_edges, o_mean_with_occlusion, color='darkmagenta', lw=1, label='trained with occlusion')\n",
    "plt.xlim(0, 1)\n",
    "plt.ylim(0, 130)\n",
    "plt.xlabel('occlusion amount', fontsize=18)\n",
    "plt.ylabel('mean orientation error (deg)', fontsize=18)\n",
    "plt.legend(prop={'size': 14})\n",
    "plt.savefig('figures/occlusion_orientation.pdf', bbox_inches='tight')"
   ]
  },
  {
   "cell_type": "code",
   "execution_count": null,
   "metadata": {},
   "outputs": [],
   "source": []
  }
 ],
 "metadata": {
  "kernelspec": {
   "display_name": "Python 3",
   "language": "python",
   "name": "python3"
  },
  "language_info": {
   "codemirror_mode": {
    "name": "ipython",
    "version": 3
   },
   "file_extension": ".py",
   "mimetype": "text/x-python",
   "name": "python",
   "nbconvert_exporter": "python",
   "pygments_lexer": "ipython3",
   "version": "3.6.6"
  }
 },
 "nbformat": 4,
 "nbformat_minor": 2
}
